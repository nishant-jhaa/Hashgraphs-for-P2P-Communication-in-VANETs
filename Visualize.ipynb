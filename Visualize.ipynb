{
  "nbformat": 4,
  "nbformat_minor": 0,
  "metadata": {
    "colab": {
      "provenance": []
    },
    "kernelspec": {
      "name": "python3",
      "display_name": "Python 3"
    },
    "language_info": {
      "name": "python"
    }
  },
  "cells": [
    {
      "cell_type": "code",
      "execution_count": null,
      "metadata": {
        "id": "rVDPnCLkgEs7"
      },
      "outputs": [],
      "source": []
    },
    {
      "cell_type": "code",
      "source": [
        "from random import shuffle\n",
        "import sys\n",
        "from base64 import b64encode\n",
        "from time import localtime, strftime\n",
        "\n",
        "from bokeh.io import curdoc\n",
        "from bokeh.layouts import layout, widgetbox, row\n",
        "from bokeh.plotting import figure\n",
        "from bokeh.palettes import plasma, small_palettes\n",
        "from bokeh.models import (\n",
        "        FixedTicker, Button, ColumnDataSource, PanTool, Scroll,\n",
        "        RadioButtonGroup, RadioGroup, Arrow, NormalHead, HoverTool)\n",
        "from pysodium import crypto_sign_keypair\n",
        "\n",
        "from utils import bfs, randrange\n",
        "from swirld import Node\n",
        "\n",
        "R_COLOR = small_palettes['Greens'][9]\n",
        "shuffle(R_COLOR)\n",
        "def round_color(r):\n",
        "    return R_COLOR[r % 9]\n",
        "\n",
        "I_COLOR = plasma(256)\n",
        "def idx_color(r):\n",
        "    return I_COLOR[r % 256]\n",
        "\n",
        "\n",
        "class App:\n",
        "    def __init__(self, n_nodes):\n",
        "        self.i = 0\n",
        "        kps = [crypto_sign_keypair() for _ in range(n_nodes)]\n",
        "        stake = {kp[0]: 1 for kp in kps}\n",
        "\n",
        "        network = {}\n",
        "        self.nodes = [Node(kp, network, n_nodes, stake) for kp in kps]\n",
        "        for n in self.nodes:\n",
        "            network[n.pk] = n.ask_sync\n",
        "        self.ids = {kp[0]: i for i, kp in enumerate(kps)}\n",
        "\n",
        "        self.main_its = [n.main() for n in self.nodes]\n",
        "        for m in self.main_its:\n",
        "            next(m)\n",
        "\n",
        "        def toggle():\n",
        "            if play.label == '► Play':\n",
        "                play.label = '❚❚ Pause'\n",
        "                curdoc().add_periodic_callback(self.animate, 50)\n",
        "            else:\n",
        "                play.label = '► Play'\n",
        "                curdoc().remove_periodic_callback(self.animate)\n",
        "\n",
        "        play = Button(label='► Play', width=60)\n",
        "        play.on_click(toggle)\n",
        "\n",
        "        def sel_node(new):\n",
        "            self.active = new\n",
        "            node = self.nodes[new]\n",
        "            self.tbd = {}\n",
        "            self.tr_src.data, self.links_src.data = self.extract_data(\n",
        "                    node, bfs((node.head,), lambda u: node.hg[u].p), 0)\n",
        "            for u, j in tuple(self.tbd.items()):\n",
        "                self.tr_src.data['line_alpha'][j] = 1 if node.famous.get(u) else 0\n",
        "                if u in node.idx:\n",
        "                    self.tr_src.data['round_color'][j] = idx_color(node.idx[u])\n",
        "                self.tr_src.data['idx'][j] = node.idx.get(u)\n",
        "                if u in node.idx and u in node.famous:\n",
        "                    del self.tbd[u]\n",
        "                    print('updated')\n",
        "            self.tr_src.trigger('data', None, self.tr_src.data)\n",
        "\n",
        "        selector = RadioButtonGroup(\n",
        "                labels=['Node %i' % i for i in range(n_nodes)], active=0,\n",
        "                name='Node to inspect')\n",
        "        selector.on_click(sel_node)\n",
        "\n",
        "        plot = figure(\n",
        "                plot_height=700, plot_width=900, y_range=(0, 30),\n",
        "                tools=[PanTool(dimensions='height'),\n",
        "                       HoverTool(tooltips=[\n",
        "                           ('round', '@round'), ('hash', '@hash'),\n",
        "                           ('timestamp', '@time'), ('payload', '@payload'),\n",
        "                           ('number', '@idx')])])\n",
        "        plot.xgrid.grid_line_color = None\n",
        "        plot.xaxis.minor_tick_line_color = None\n",
        "        plot.ygrid.grid_line_color = None\n",
        "        plot.yaxis.minor_tick_line_color = None\n",
        "\n",
        "        self.links_src = ColumnDataSource(data={'x0': [], 'y0': [], 'x1': [],\n",
        "                                                'y1': [], 'width': []})\n",
        "       \n",
        "        self.links_rend = plot.segment(color='#777777',\n",
        "                x0='x0', y0='y0', x1='x1',\n",
        "                y1='y1', source=self.links_src, line_width='width')\n",
        "\n",
        "        self.tr_src = ColumnDataSource(\n",
        "                data={'x': [], 'y': [], 'round_color': [], 'idx': [],\n",
        "                    'line_alpha': [], 'round': [], 'hash': [], 'payload': [],\n",
        "                    'time': []})\n",
        "\n",
        "        self.tr_rend = plot.circle(x='x', y='y', size=20, color='round_color',\n",
        "                                   line_alpha='line_alpha', source=self.tr_src, line_width=5)\n",
        "\n",
        "        sel_node(0)\n",
        "        curdoc().add_root(row([widgetbox(play, selector, width=300), plot], sizing_mode='fixed'))\n",
        "\n",
        "    def extract_data(self, node, trs, i):\n",
        "        tr_data = {'x': [], 'y': [], 'round_color': [], 'idx': [],\n",
        "                'line_alpha': [], 'round': [], 'hash': [], 'payload': [],\n",
        "                'time': []}\n",
        "        links_data = {'x0': [], 'y0': [], 'x1': [], 'y1': [], 'width': []}\n",
        "        for j, u in enumerate(trs):\n",
        "            self.tbd[u] = i + j\n",
        "            ev = node.hg[u]\n",
        "            x = self.ids[ev.c]\n",
        "            y = node.height[u]\n",
        "            tr_data['x'].append(x)\n",
        "            tr_data['y'].append(y)\n",
        "            tr_data['round_color'].append(round_color(node.round[u]))\n",
        "            tr_data['round'].append(node.round[u])\n",
        "            tr_data['hash'].append(b64encode(u).decode('utf8'))\n",
        "            tr_data['payload'].append(ev.d)\n",
        "            tr_data['time'].append(strftime(\"%Y-%m-%d %H:%M:%S\", localtime(ev.t)))\n",
        "\n",
        "            tr_data['idx'].append(None)\n",
        "            tr_data['line_alpha'].append(None)\n",
        "\n",
        "            if ev.p:\n",
        "                links_data['x0'].extend((x, x))\n",
        "                links_data['y0'].extend((y, y))\n",
        "                links_data['x1'].append(self.ids[node.hg[ev.p[0]].c])\n",
        "                links_data['x1'].append(self.ids[node.hg[ev.p[1]].c])\n",
        "                links_data['y1'].append(node.height[ev.p[0]])\n",
        "                links_data['y1'].append(node.height[ev.p[1]])\n",
        "                links_data['width'].extend((3, 1))\n",
        "\n",
        "        return tr_data, links_data\n",
        "\n",
        "    def animate(self):\n",
        "        r = randrange(len(self.main_its))\n",
        "        print('working node: %i, event number: %i' % (r, self.i))\n",
        "        f = open(\"data.txt\",\"a+\")\n",
        "        f.write(\"working node: %i, event number: %i\\r\\n\" % (r, self.i))\n",
        "        f.close()\n",
        "        self.i += 1\n",
        "        new = next(self.main_its[r])\n",
        "        if r == self.active:\n",
        "            tr, links = self.extract_data(self.nodes[r], new, len(self.tr_src.data['x']))\n",
        "            self.tr_src.stream(tr)\n",
        "            self.links_src.stream(links)\n",
        "            for u, j in tuple(self.tbd.items()):\n",
        "                self.tr_src.data['line_alpha'][j] = 1 if self.nodes[r].famous.get(u) else 0\n",
        "                if u in self.nodes[r].idx:\n",
        "                    self.tr_src.data['round_color'][j] = idx_color(self.nodes[r].idx[u])\n",
        "                self.tr_src.data['idx'][j] = self.nodes[r].idx.get(u)\n",
        "                if u in self.nodes[r].idx and u in self.nodes[r].famous:\n",
        "                    del self.tbd[u]\n",
        "                    print('updated')\n",
        "            self.tr_src.trigger('data', None, self.tr_src.data)\n",
        "\n",
        "\n",
        "App(int(sys.argv[1]))"
      ],
      "metadata": {
        "id": "U5eh4K8_gF7Q"
      },
      "execution_count": null,
      "outputs": []
    },
    {
      "cell_type": "code",
      "source": [],
      "metadata": {
        "id": "TpkFrl1EgF9v"
      },
      "execution_count": null,
      "outputs": []
    },
    {
      "cell_type": "code",
      "source": [],
      "metadata": {
        "id": "SlU7yR7egF_7"
      },
      "execution_count": null,
      "outputs": []
    },
    {
      "cell_type": "code",
      "source": [],
      "metadata": {
        "id": "6KE29CN7gGCE"
      },
      "execution_count": null,
      "outputs": []
    },
    {
      "cell_type": "code",
      "source": [],
      "metadata": {
        "id": "TzO713AIgGER"
      },
      "execution_count": null,
      "outputs": []
    },
    {
      "cell_type": "code",
      "source": [],
      "metadata": {
        "id": "7o1h8RQ4gGGZ"
      },
      "execution_count": null,
      "outputs": []
    },
    {
      "cell_type": "code",
      "source": [],
      "metadata": {
        "id": "zG535UfwgGIX"
      },
      "execution_count": null,
      "outputs": []
    },
    {
      "cell_type": "code",
      "source": [],
      "metadata": {
        "id": "p4Nm-cRJgGKa"
      },
      "execution_count": null,
      "outputs": []
    },
    {
      "cell_type": "code",
      "source": [],
      "metadata": {
        "id": "VrKaoz6FgGMw"
      },
      "execution_count": null,
      "outputs": []
    },
    {
      "cell_type": "code",
      "source": [],
      "metadata": {
        "id": "N9M5FmU4gGPM"
      },
      "execution_count": null,
      "outputs": []
    },
    {
      "cell_type": "code",
      "source": [],
      "metadata": {
        "id": "7I9G1hbsgGRA"
      },
      "execution_count": null,
      "outputs": []
    },
    {
      "cell_type": "code",
      "source": [],
      "metadata": {
        "id": "Y2_D5VVLgGTY"
      },
      "execution_count": null,
      "outputs": []
    },
    {
      "cell_type": "code",
      "source": [],
      "metadata": {
        "id": "DudminEvgGVy"
      },
      "execution_count": null,
      "outputs": []
    }
  ]
}