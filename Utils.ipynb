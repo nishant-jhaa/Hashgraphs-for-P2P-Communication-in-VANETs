{
  "nbformat": 4,
  "nbformat_minor": 0,
  "metadata": {
    "colab": {
      "provenance": []
    },
    "kernelspec": {
      "name": "python3",
      "display_name": "Python 3"
    },
    "language_info": {
      "name": "python"
    }
  },
  "cells": [
    {
      "cell_type": "code",
      "source": [
        "from collections import deque\n",
        "\n",
        "from pysodium import randombytes\n",
        "\n",
        "\n",
        "def toposort(nodes, parents):\n",
        "    seen = {}\n",
        "    def visit(u):\n",
        "        if u in seen:\n",
        "            if seen[u] == 0:\n",
        "                raise ValueError('it is not a Directed Acyclic Graph')\n",
        "        elif u in nodes:\n",
        "            seen[u] = 0\n",
        "            for v in parents(u):\n",
        "                yield from visit(v)\n",
        "            seen[u] = 1\n",
        "            yield u\n",
        "    for u in nodes:\n",
        "        yield from visit(u)\n",
        "\n",
        "\n",
        "def bfs(s, succ):\n",
        "    s = tuple(s)\n",
        "    seen = set(s)\n",
        "    q = deque(s)\n",
        "    while q:\n",
        "        u = q.popleft()\n",
        "        yield u\n",
        "        for v in succ(u):\n",
        "            if not v in seen:\n",
        "                seen.add(v)\n",
        "                q.append(v)\n",
        "\n",
        "\n",
        "def dfs(s, succ):\n",
        "    seen = set()\n",
        "    q = [s]\n",
        "    while q:\n",
        "        u = q.pop()\n",
        "        yield u\n",
        "        seen.add(u)\n",
        "        for v in succ(u):\n",
        "            if v not in seen:\n",
        "                q.append(v)\n",
        "\n",
        "\n",
        "def randrange(n):\n",
        "    a = (n.bit_length() + 7) // 8  \n",
        "    b = 8 * a - n.bit_length()    \n",
        "    r = int.from_bytes(randombytes(a), byteorder='big') >> b\n",
        "    while r >= n:\n",
        "        r = int.from_bytes(randombytes(a), byteorder='big') >> b\n",
        "    return r"
      ],
      "metadata": {
        "id": "TpkFrl1EgF9v"
      },
      "execution_count": null,
      "outputs": []
    }
  ]
}